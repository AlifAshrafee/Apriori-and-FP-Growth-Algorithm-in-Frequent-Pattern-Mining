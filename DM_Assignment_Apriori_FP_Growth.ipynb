{
  "nbformat": 4,
  "nbformat_minor": 0,
  "metadata": {
    "colab": {
      "name": "DM_Assignment_Apriori_FP-Growth.ipynb",
      "provenance": [],
      "authorship_tag": "ABX9TyNb0USac33FhJs7pj6VAT2/",
      "include_colab_link": true
    },
    "kernelspec": {
      "name": "python3",
      "display_name": "Python 3"
    },
    "language_info": {
      "name": "python"
    }
  },
  "cells": [
    {
      "cell_type": "markdown",
      "metadata": {
        "id": "view-in-github",
        "colab_type": "text"
      },
      "source": [
        "<a href=\"https://colab.research.google.com/github/AlifAshrafee/Apriori-and-FP-Growth-Algorithm-in-Frequent-Pattern-Mining/blob/main/DM_Assignment_Apriori_FP_Growth.ipynb\" target=\"_parent\"><img src=\"https://colab.research.google.com/assets/colab-badge.svg\" alt=\"Open In Colab\"/></a>"
      ]
    },
    {
      "cell_type": "markdown",
      "metadata": {
        "id": "TbIYpeZncNwN"
      },
      "source": [
        "## Importing Necessary Dependencies"
      ]
    },
    {
      "cell_type": "code",
      "metadata": {
        "id": "ZWEai3hxTCkn"
      },
      "source": [
        "import time\n",
        "import numpy as np\n",
        "import pandas as pd\n",
        "import matplotlib.pyplot as plt"
      ],
      "execution_count": 1,
      "outputs": []
    },
    {
      "cell_type": "markdown",
      "metadata": {
        "id": "8eAGV6rVpdj3"
      },
      "source": [
        "## Cloning the Repository for Source Files and Dataset"
      ]
    },
    {
      "cell_type": "code",
      "metadata": {
        "colab": {
          "base_uri": "https://localhost:8080/"
        },
        "id": "GFhzTIMkpiqf",
        "outputId": "ce094f01-1fcc-44d5-c571-68b81c7ea0e9"
      },
      "source": [
        "!git clone https://github.com/AlifAshrafee/Apriori-and-FP-Growth-Algorithm-in-Frequent-Pattern-Mining.git"
      ],
      "execution_count": 2,
      "outputs": [
        {
          "output_type": "stream",
          "text": [
            "fatal: destination path 'Apriori-and-FP-Growth-Algorithm-in-Frequent-Pattern-Mining' already exists and is not an empty directory.\n"
          ],
          "name": "stdout"
        }
      ]
    },
    {
      "cell_type": "code",
      "metadata": {
        "colab": {
          "base_uri": "https://localhost:8080/"
        },
        "id": "ImHvOOuN1SZX",
        "outputId": "a16bb15d-b4c9-4d38-a14d-4185facc561f"
      },
      "source": [
        "%cd /content/Apriori-and-FP-Growth-Algorithm-in-Frequent-Pattern-Mining/"
      ],
      "execution_count": 118,
      "outputs": [
        {
          "output_type": "stream",
          "text": [
            "/content/Apriori-and-FP-Growth-Algorithm-in-Frequent-Pattern-Mining\n"
          ],
          "name": "stdout"
        }
      ]
    },
    {
      "cell_type": "markdown",
      "metadata": {
        "id": "4IfHPxBWhUAw"
      },
      "source": [
        "# Dataset 1"
      ]
    },
    {
      "cell_type": "markdown",
      "metadata": {
        "id": "7cTnqZbtcUWU"
      },
      "source": [
        "## Loading and Inspecting Dataset 1"
      ]
    },
    {
      "cell_type": "code",
      "metadata": {
        "id": "eOCL0s3NSoi8"
      },
      "source": [
        "groceries = pd.read_csv(\"Dataset/Groceries_dataset.csv\")"
      ],
      "execution_count": 119,
      "outputs": []
    },
    {
      "cell_type": "code",
      "metadata": {
        "colab": {
          "base_uri": "https://localhost:8080/",
          "height": 219
        },
        "id": "ZTfRedyjS2lE",
        "outputId": "12f27d12-16d0-47bc-f0ec-5b7c4e1a4025"
      },
      "source": [
        "print(groceries.shape)\n",
        "groceries.head()"
      ],
      "execution_count": 59,
      "outputs": [
        {
          "output_type": "stream",
          "text": [
            "(38765, 3)\n"
          ],
          "name": "stdout"
        },
        {
          "output_type": "execute_result",
          "data": {
            "text/html": [
              "<div>\n",
              "<style scoped>\n",
              "    .dataframe tbody tr th:only-of-type {\n",
              "        vertical-align: middle;\n",
              "    }\n",
              "\n",
              "    .dataframe tbody tr th {\n",
              "        vertical-align: top;\n",
              "    }\n",
              "\n",
              "    .dataframe thead th {\n",
              "        text-align: right;\n",
              "    }\n",
              "</style>\n",
              "<table border=\"1\" class=\"dataframe\">\n",
              "  <thead>\n",
              "    <tr style=\"text-align: right;\">\n",
              "      <th></th>\n",
              "      <th>Member_number</th>\n",
              "      <th>Date</th>\n",
              "      <th>itemDescription</th>\n",
              "    </tr>\n",
              "  </thead>\n",
              "  <tbody>\n",
              "    <tr>\n",
              "      <th>0</th>\n",
              "      <td>1808</td>\n",
              "      <td>21-07-2015</td>\n",
              "      <td>tropical fruit</td>\n",
              "    </tr>\n",
              "    <tr>\n",
              "      <th>1</th>\n",
              "      <td>2552</td>\n",
              "      <td>05-01-2015</td>\n",
              "      <td>whole milk</td>\n",
              "    </tr>\n",
              "    <tr>\n",
              "      <th>2</th>\n",
              "      <td>2300</td>\n",
              "      <td>19-09-2015</td>\n",
              "      <td>pip fruit</td>\n",
              "    </tr>\n",
              "    <tr>\n",
              "      <th>3</th>\n",
              "      <td>1187</td>\n",
              "      <td>12-12-2015</td>\n",
              "      <td>other vegetables</td>\n",
              "    </tr>\n",
              "    <tr>\n",
              "      <th>4</th>\n",
              "      <td>3037</td>\n",
              "      <td>01-02-2015</td>\n",
              "      <td>whole milk</td>\n",
              "    </tr>\n",
              "  </tbody>\n",
              "</table>\n",
              "</div>"
            ],
            "text/plain": [
              "   Member_number        Date   itemDescription\n",
              "0           1808  21-07-2015    tropical fruit\n",
              "1           2552  05-01-2015        whole milk\n",
              "2           2300  19-09-2015         pip fruit\n",
              "3           1187  12-12-2015  other vegetables\n",
              "4           3037  01-02-2015        whole milk"
            ]
          },
          "metadata": {
            "tags": []
          },
          "execution_count": 59
        }
      ]
    },
    {
      "cell_type": "markdown",
      "metadata": {
        "id": "iDZz2H-scbdr"
      },
      "source": [
        "## Preprocessing Dataset 1 to Feed into the Algorithms"
      ]
    },
    {
      "cell_type": "code",
      "metadata": {
        "colab": {
          "base_uri": "https://localhost:8080/",
          "height": 445
        },
        "id": "j61nXKW5TVXn",
        "outputId": "e11f1341-832e-41c1-9cfb-bb2a9e42cf3b"
      },
      "source": [
        "groups = groceries.groupby(['Member_number', 'Date'])\n",
        "groups.first()"
      ],
      "execution_count": 120,
      "outputs": [
        {
          "output_type": "execute_result",
          "data": {
            "text/html": [
              "<div>\n",
              "<style scoped>\n",
              "    .dataframe tbody tr th:only-of-type {\n",
              "        vertical-align: middle;\n",
              "    }\n",
              "\n",
              "    .dataframe tbody tr th {\n",
              "        vertical-align: top;\n",
              "    }\n",
              "\n",
              "    .dataframe thead th {\n",
              "        text-align: right;\n",
              "    }\n",
              "</style>\n",
              "<table border=\"1\" class=\"dataframe\">\n",
              "  <thead>\n",
              "    <tr style=\"text-align: right;\">\n",
              "      <th></th>\n",
              "      <th></th>\n",
              "      <th>itemDescription</th>\n",
              "    </tr>\n",
              "    <tr>\n",
              "      <th>Member_number</th>\n",
              "      <th>Date</th>\n",
              "      <th></th>\n",
              "    </tr>\n",
              "  </thead>\n",
              "  <tbody>\n",
              "    <tr>\n",
              "      <th rowspan=\"5\" valign=\"top\">1000</th>\n",
              "      <th>15-03-2015</th>\n",
              "      <td>sausage</td>\n",
              "    </tr>\n",
              "    <tr>\n",
              "      <th>24-06-2014</th>\n",
              "      <td>whole milk</td>\n",
              "    </tr>\n",
              "    <tr>\n",
              "      <th>24-07-2015</th>\n",
              "      <td>canned beer</td>\n",
              "    </tr>\n",
              "    <tr>\n",
              "      <th>25-11-2015</th>\n",
              "      <td>sausage</td>\n",
              "    </tr>\n",
              "    <tr>\n",
              "      <th>27-05-2015</th>\n",
              "      <td>soda</td>\n",
              "    </tr>\n",
              "    <tr>\n",
              "      <th>...</th>\n",
              "      <th>...</th>\n",
              "      <td>...</td>\n",
              "    </tr>\n",
              "    <tr>\n",
              "      <th rowspan=\"2\" valign=\"top\">4999</th>\n",
              "      <th>24-01-2015</th>\n",
              "      <td>tropical fruit</td>\n",
              "    </tr>\n",
              "    <tr>\n",
              "      <th>26-12-2015</th>\n",
              "      <td>bottled water</td>\n",
              "    </tr>\n",
              "    <tr>\n",
              "      <th rowspan=\"3\" valign=\"top\">5000</th>\n",
              "      <th>09-03-2014</th>\n",
              "      <td>fruit/vegetable juice</td>\n",
              "    </tr>\n",
              "    <tr>\n",
              "      <th>10-02-2015</th>\n",
              "      <td>soda</td>\n",
              "    </tr>\n",
              "    <tr>\n",
              "      <th>16-11-2014</th>\n",
              "      <td>bottled beer</td>\n",
              "    </tr>\n",
              "  </tbody>\n",
              "</table>\n",
              "<p>14963 rows × 1 columns</p>\n",
              "</div>"
            ],
            "text/plain": [
              "                                itemDescription\n",
              "Member_number Date                             \n",
              "1000          15-03-2015                sausage\n",
              "              24-06-2014             whole milk\n",
              "              24-07-2015            canned beer\n",
              "              25-11-2015                sausage\n",
              "              27-05-2015                   soda\n",
              "...                                         ...\n",
              "4999          24-01-2015         tropical fruit\n",
              "              26-12-2015          bottled water\n",
              "5000          09-03-2014  fruit/vegetable juice\n",
              "              10-02-2015                   soda\n",
              "              16-11-2014           bottled beer\n",
              "\n",
              "[14963 rows x 1 columns]"
            ]
          },
          "metadata": {
            "tags": []
          },
          "execution_count": 120
        }
      ]
    },
    {
      "cell_type": "code",
      "metadata": {
        "id": "uUhXk4duTb5C"
      },
      "source": [
        "transactions = list(groups)\n",
        "all_transactions = [transaction[1]['itemDescription'].tolist() for transaction in transactions]"
      ],
      "execution_count": 121,
      "outputs": []
    },
    {
      "cell_type": "code",
      "metadata": {
        "colab": {
          "base_uri": "https://localhost:8080/"
        },
        "id": "PWkzuHQ4Tfn3",
        "outputId": "c0308b45-d35a-4631-88f7-e28f547d4a56"
      },
      "source": [
        "print(len(all_transactions))\n",
        "all_transactions[:10]"
      ],
      "execution_count": 62,
      "outputs": [
        {
          "output_type": "stream",
          "text": [
            "14963\n"
          ],
          "name": "stdout"
        },
        {
          "output_type": "execute_result",
          "data": {
            "text/plain": [
              "[['sausage', 'whole milk', 'semi-finished bread', 'yogurt'],\n",
              " ['whole milk', 'pastry', 'salty snack'],\n",
              " ['canned beer', 'misc. beverages'],\n",
              " ['sausage', 'hygiene articles'],\n",
              " ['soda', 'pickled vegetables'],\n",
              " ['frankfurter', 'curd'],\n",
              " ['sausage', 'whole milk', 'rolls/buns'],\n",
              " ['whole milk', 'soda'],\n",
              " ['beef', 'white bread'],\n",
              " ['frankfurter', 'soda', 'whipped/sour cream']]"
            ]
          },
          "metadata": {
            "tags": []
          },
          "execution_count": 62
        }
      ]
    },
    {
      "cell_type": "markdown",
      "metadata": {
        "id": "h8lKD7dcazKG"
      },
      "source": [
        "## Applying Apriori Algorithm to Dataset 1"
      ]
    },
    {
      "cell_type": "code",
      "metadata": {
        "colab": {
          "base_uri": "https://localhost:8080/"
        },
        "id": "Ymf1w1mS1rW3",
        "outputId": "edd319e2-264e-4842-a611-225d5d096606"
      },
      "source": [
        "%cd Source/"
      ],
      "execution_count": 122,
      "outputs": [
        {
          "output_type": "stream",
          "text": [
            "/content/Apriori-and-FP-Growth-Algorithm-in-Frequent-Pattern-Mining/Source\n"
          ],
          "name": "stdout"
        }
      ]
    },
    {
      "cell_type": "code",
      "metadata": {
        "colab": {
          "base_uri": "https://localhost:8080/"
        },
        "id": "SH4jSUdaHsfP",
        "outputId": "59633075-150c-435a-820d-fe15c51f9702"
      },
      "source": [
        "from apriori import apriori\n",
        "\n",
        "start_time = time.time()\n",
        "freqItemSet, rules = apriori(all_transactions, minSup=0.01, minConf=0.05)\n",
        "apriori_total_execution = time.time() - start_time\n",
        "print(\"Apriori execution took: {} seconds\".format(apriori_total_execution))"
      ],
      "execution_count": 64,
      "outputs": [
        {
          "output_type": "stream",
          "text": [
            "Apriori execution took: 12.800943613052368 seconds\n"
          ],
          "name": "stdout"
        }
      ]
    },
    {
      "cell_type": "code",
      "metadata": {
        "id": "97M1kaQ3UFgo",
        "colab": {
          "base_uri": "https://localhost:8080/"
        },
        "outputId": "a2ce4dab-e5e0-4251-8509-a4c75e9ee559"
      },
      "source": [
        "for item in freqItemSet.items():\n",
        "  print(f\"Itemsets of length {item[0]}:\\n{item[1]}\")"
      ],
      "execution_count": 65,
      "outputs": [
        {
          "output_type": "stream",
          "text": [
            "Itemsets of length 1:\n",
            "{frozenset({'candy'}), frozenset({'curd'}), frozenset({'chewing gum'}), frozenset({'processed cheese'}), frozenset({'butter'}), frozenset({'tropical fruit'}), frozenset({'cream cheese '}), frozenset({'butter milk'}), frozenset({'white bread'}), frozenset({'napkins'}), frozenset({'chocolate'}), frozenset({'other vegetables'}), frozenset({'herbs'}), frozenset({'sugar'}), frozenset({'frozen vegetables'}), frozenset({'dessert'}), frozenset({'whole milk'}), frozenset({'beef'}), frozenset({'coffee'}), frozenset({'yogurt'}), frozenset({'sliced cheese'}), frozenset({'whipped/sour cream'}), frozenset({'bottled beer'}), frozenset({'beverages'}), frozenset({'salty snack'}), frozenset({'ham'}), frozenset({'margarine'}), frozenset({'newspapers'}), frozenset({'fruit/vegetable juice'}), frozenset({'bottled water'}), frozenset({'sausage'}), frozenset({'frozen meals'}), frozenset({'red/blush wine'}), frozenset({'citrus fruit'}), frozenset({'onions'}), frozenset({'ice cream'}), frozenset({'specialty chocolate'}), frozenset({'grapes'}), frozenset({'cat food'}), frozenset({'pip fruit'}), frozenset({'chicken'}), frozenset({'soda'}), frozenset({'pastry'}), frozenset({'specialty bar'}), frozenset({'long life bakery product'}), frozenset({'hamburger meat'}), frozenset({'rolls/buns'}), frozenset({'hygiene articles'}), frozenset({'root vegetables'}), frozenset({'pork'}), frozenset({'brown bread'}), frozenset({'shopping bags'}), frozenset({'misc. beverages'}), frozenset({'soft cheese'}), frozenset({'frankfurter'}), frozenset({'hard cheese'}), frozenset({'white wine'}), frozenset({'waffles'}), frozenset({'oil'}), frozenset({'berries'}), frozenset({'canned beer'}), frozenset({'UHT-milk'}), frozenset({'domestic eggs'}), frozenset({'meat'})}\n",
            "Itemsets of length 2:\n",
            "{frozenset({'soda', 'whole milk'}), frozenset({'other vegetables', 'whole milk'}), frozenset({'rolls/buns', 'other vegetables'}), frozenset({'yogurt', 'whole milk'}), frozenset({'rolls/buns', 'whole milk'})}\n"
          ],
          "name": "stdout"
        }
      ]
    },
    {
      "cell_type": "code",
      "metadata": {
        "colab": {
          "base_uri": "https://localhost:8080/"
        },
        "id": "Vh7RdsbhYP7i",
        "outputId": "299fa4b4-52eb-4b12-eb81-aa6015b01968"
      },
      "source": [
        "for rule in rules:\n",
        "  print(rule)"
      ],
      "execution_count": 66,
      "outputs": [
        {
          "output_type": "stream",
          "text": [
            "[{'whole milk'}, {'yogurt'}, 0.07067287346593314]\n",
            "[{'whole milk'}, {'soda'}, 0.07363520947947524]\n",
            "[{'other vegetables'}, {'rolls/buns'}, 0.08648056923918993]\n",
            "[{'whole milk'}, {'rolls/buns'}, 0.08844688954718578]\n",
            "[{'whole milk'}, {'other vegetables'}, 0.09394837071519255]\n",
            "[{'rolls/buns'}, {'other vegetables'}, 0.0959902794653706]\n",
            "[{'soda'}, {'whole milk'}, 0.11975223675154852]\n",
            "[{'other vegetables'}, {'whole milk'}, 0.12151067323481117]\n",
            "[{'rolls/buns'}, {'whole milk'}, 0.12697448359659783]\n",
            "[{'yogurt'}, {'whole milk'}, 0.12996108949416343]\n"
          ],
          "name": "stdout"
        }
      ]
    },
    {
      "cell_type": "markdown",
      "metadata": {
        "id": "y-lHXK7Zcj2p"
      },
      "source": [
        "## Applying FP Growth Algorithm to Dataset 1"
      ]
    },
    {
      "cell_type": "code",
      "metadata": {
        "colab": {
          "base_uri": "https://localhost:8080/"
        },
        "id": "GpO384T_Zm_Z",
        "outputId": "2e915315-5235-4d25-da5e-c5ec6fe542ff"
      },
      "source": [
        "from fpgrowth import fpgrowth\n",
        "\n",
        "start_time = time.time()\n",
        "freqItemSet, rules = fpgrowth(all_transactions, minSupRatio=0.01, minConf=0.05)\n",
        "fp_growth_total_execution = time.time() - start_time\n",
        "print(\"FP Growth execution took: {} seconds\".format(fp_growth_total_execution))"
      ],
      "execution_count": 67,
      "outputs": [
        {
          "output_type": "stream",
          "text": [
            "FP Growth execution took: 0.8250226974487305 seconds\n"
          ],
          "name": "stdout"
        }
      ]
    },
    {
      "cell_type": "code",
      "metadata": {
        "colab": {
          "base_uri": "https://localhost:8080/"
        },
        "id": "XdJues_EbUrh",
        "outputId": "b5a63870-48d2-4e8e-8532-a75a6d15534f"
      },
      "source": [
        "frequency_list = {}\n",
        "\n",
        "for item in freqItemSet:\n",
        "  if len(item) in frequency_list.keys():\n",
        "    frequency_list[len(item)].append(item)\n",
        "  else:\n",
        "    frequency_list[len(item)] = [item]\n",
        "\n",
        "for item in frequency_list.items():\n",
        "  print(f\"Itemsets of length {item[0]}:\\n{item[1]}\")"
      ],
      "execution_count": 68,
      "outputs": [
        {
          "output_type": "stream",
          "text": [
            "Itemsets of length 1:\n",
            "[{'processed cheese'}, {'soft cheese'}, {'red/blush wine'}, {'herbs'}, {'white wine'}, {'cat food'}, {'chewing gum'}, {'hygiene articles'}, {'specialty bar'}, {'sliced cheese'}, {'candy'}, {'grapes'}, {'hard cheese'}, {'oil'}, {'ice cream'}, {'misc. beverages'}, {'specialty chocolate'}, {'beverages'}, {'frozen meals'}, {'meat'}, {'ham'}, {'butter milk'}, {'sugar'}, {'long life bakery product'}, {'waffles'}, {'salty snack'}, {'onions'}, {'UHT-milk'}, {'hamburger meat'}, {'berries'}, {'napkins'}, {'dessert'}, {'chocolate'}, {'cream cheese '}, {'white bread'}, {'chicken'}, {'frozen vegetables'}, {'coffee'}, {'margarine'}, {'curd'}, {'beef'}, {'fruit/vegetable juice'}, {'butter'}, {'domestic eggs'}, {'pork'}, {'brown bread'}, {'frankfurter'}, {'newspapers'}, {'whipped/sour cream'}, {'bottled beer'}, {'canned beer'}, {'shopping bags'}, {'pip fruit'}, {'pastry'}, {'citrus fruit'}, {'sausage'}, {'bottled water'}, {'tropical fruit'}, {'root vegetables'}, {'yogurt'}, {'soda'}, {'rolls/buns'}, {'other vegetables'}, {'whole milk'}]\n",
            "Itemsets of length 2:\n",
            "[{'yogurt', 'whole milk'}, {'soda', 'other vegetables'}, {'soda', 'whole milk'}, {'other vegetables', 'rolls/buns'}, {'rolls/buns', 'whole milk'}, {'other vegetables', 'whole milk'}]\n"
          ],
          "name": "stdout"
        }
      ]
    },
    {
      "cell_type": "code",
      "metadata": {
        "colab": {
          "base_uri": "https://localhost:8080/"
        },
        "id": "IkKmFZNebpRO",
        "outputId": "1c6b6a54-1e63-4c2a-cb7c-7782b6618e94"
      },
      "source": [
        "for rule in rules:\n",
        "  print(rule)"
      ],
      "execution_count": 69,
      "outputs": [
        {
          "output_type": "stream",
          "text": [
            "[{'yogurt'}, {'whole milk'}, 0.12996108949416343]\n",
            "[{'whole milk'}, {'yogurt'}, 0.07067287346593314]\n",
            "[{'soda'}, {'other vegetables'}, 0.09979353062629043]\n",
            "[{'other vegetables'}, {'soda'}, 0.07936507936507936]\n",
            "[{'soda'}, {'whole milk'}, 0.11975223675154852]\n",
            "[{'whole milk'}, {'soda'}, 0.07363520947947524]\n",
            "[{'other vegetables'}, {'rolls/buns'}, 0.08648056923918993]\n",
            "[{'rolls/buns'}, {'other vegetables'}, 0.0959902794653706]\n",
            "[{'rolls/buns'}, {'whole milk'}, 0.12697448359659783]\n",
            "[{'whole milk'}, {'rolls/buns'}, 0.08844688954718578]\n",
            "[{'other vegetables'}, {'whole milk'}, 0.12151067323481117]\n",
            "[{'whole milk'}, {'other vegetables'}, 0.09394837071519255]\n"
          ],
          "name": "stdout"
        }
      ]
    },
    {
      "cell_type": "markdown",
      "metadata": {
        "id": "pc6mGejpcsqg"
      },
      "source": [
        "## Comparative Analysis of Apriori and FP Growth in Dataset 1"
      ]
    },
    {
      "cell_type": "code",
      "metadata": {
        "colab": {
          "base_uri": "https://localhost:8080/",
          "height": 295
        },
        "id": "1eZjP2k_Z2Bw",
        "outputId": "6b9011c4-9cc2-4f75-93dd-05b774ef9ed4"
      },
      "source": [
        "plt.bar([0, 1], [apriori_total_execution, fp_growth_total_execution], color=['green', 'orange'])\n",
        "plt.xticks([0, 1], (\"Apriori\", \"FP Growth\"))\n",
        "plt.xlabel('Algorithms')\n",
        "plt.ylabel('Time')\n",
        "plt.title(\"Execution Time (seconds) Comparison\")\n",
        "plt.show()"
      ],
      "execution_count": 70,
      "outputs": [
        {
          "output_type": "display_data",
          "data": {
            "image/png": "[encoded data removed]",
            "text/plain": [
              "<Figure size 432x288 with 1 Axes>"
            ]
          },
          "metadata": {
            "tags": [],
            "needs_background": "light"
          }
        }
      ]
    },
    {
      "cell_type": "markdown",
      "metadata": {
        "id": "465CZUTNLr0G"
      },
      "source": [
        "## Running Apriori and FP Growth with Multiple Min Support Thresholds on Dataset 1"
      ]
    },
    {
      "cell_type": "code",
      "metadata": {
        "id": "K703JaFrJmse"
      },
      "source": [
        "configs = [0.01, 0.03, 0.05, 0.07, 0.1, 0.12]\n",
        "apriori_times = []\n",
        "fp_growth_times = []\n",
        "\n",
        "for config in configs:\n",
        "  start_time = time.time()\n",
        "  freqItemSet, rules = apriori(all_transactions, minSup=config, minConf=0.05)\n",
        "  end_time = time.time() - start_time\n",
        "  apriori_times.append(end_time)\n",
        "\n",
        "  start_time = time.time()\n",
        "  freqItemSet, rules = fpgrowth(all_transactions, minSupRatio=config, minConf=0.05)\n",
        "  end_time = time.time() - start_time\n",
        "  fp_growth_times.append(end_time)"
      ],
      "execution_count": 123,
      "outputs": []
    },
    {
      "cell_type": "code",
      "metadata": {
        "colab": {
          "base_uri": "https://localhost:8080/",
          "height": 404
        },
        "id": "RwqaXd4JL1PC",
        "outputId": "5e3a3cda-78f9-4f88-8f2e-b5522c5a5e66"
      },
      "source": [
        "plt.figure(figsize=(10,6))\n",
        "plt.plot(configs, apriori_times, 'b*-')\n",
        "plt.plot(configs, fp_growth_times, 'g+-')\n",
        "plt.title('Runtime Comparison with Different Min Support on Dataset 1')\n",
        "plt.xlabel('Min Support')\n",
        "plt.ylabel('Time taken (seconds)')\n",
        "plt.legend([\"Apriori\", \"FP Growth\"], loc =\"upper right\")\n",
        "plt.show()"
      ],
      "execution_count": 124,
      "outputs": [
        {
          "output_type": "display_data",
          "data": {
            "image/png": "[encoded data removed]",
            "text/plain": [
              "<Figure size 720x432 with 1 Axes>"
            ]
          },
          "metadata": {
            "tags": [],
            "needs_background": "light"
          }
        }
      ]
    },
    {
      "cell_type": "markdown",
      "metadata": {
        "id": "tKNO0awbid1A"
      },
      "source": [
        "# Dataset 2"
      ]
    },
    {
      "cell_type": "markdown",
      "metadata": {
        "id": "wWgC2yXrijkp"
      },
      "source": [
        "## Loading and Inspecting Dataset 2"
      ]
    },
    {
      "cell_type": "code",
      "metadata": {
        "id": "a--D9R73ik24"
      },
      "source": [
        "cols = ['A', 'B', 'C', 'D', 'E', 'F', 'G', 'H', 'I', 'J']\n",
        "retail_items = pd.read_csv(\"/content/Apriori-and-FP-Growth-Algorithm-in-Frequent-Pattern-Mining/Dataset/DataSetA.csv\", names=cols)"
      ],
      "execution_count": 79,
      "outputs": []
    },
    {
      "cell_type": "code",
      "metadata": {
        "colab": {
          "base_uri": "https://localhost:8080/",
          "height": 373
        },
        "id": "-Rk-6DZgpjnt",
        "outputId": "3be982d9-d316-4b54-a022-bb05b40f2747"
      },
      "source": [
        "print(retail_items.shape)\n",
        "retail_items.head(10)"
      ],
      "execution_count": 80,
      "outputs": [
        {
          "output_type": "stream",
          "text": [
            "(12526, 10)\n"
          ],
          "name": "stdout"
        },
        {
          "output_type": "execute_result",
          "data": {
            "text/html": [
              "<div>\n",
              "<style scoped>\n",
              "    .dataframe tbody tr th:only-of-type {\n",
              "        vertical-align: middle;\n",
              "    }\n",
              "\n",
              "    .dataframe tbody tr th {\n",
              "        vertical-align: top;\n",
              "    }\n",
              "\n",
              "    .dataframe thead th {\n",
              "        text-align: right;\n",
              "    }\n",
              "</style>\n",
              "<table border=\"1\" class=\"dataframe\">\n",
              "  <thead>\n",
              "    <tr style=\"text-align: right;\">\n",
              "      <th></th>\n",
              "      <th>A</th>\n",
              "      <th>B</th>\n",
              "      <th>C</th>\n",
              "      <th>D</th>\n",
              "      <th>E</th>\n",
              "      <th>F</th>\n",
              "      <th>G</th>\n",
              "      <th>H</th>\n",
              "      <th>I</th>\n",
              "      <th>J</th>\n",
              "    </tr>\n",
              "  </thead>\n",
              "  <tbody>\n",
              "    <tr>\n",
              "      <th>0</th>\n",
              "      <td>Lassi</td>\n",
              "      <td>Coffee Powder</td>\n",
              "      <td>Butter</td>\n",
              "      <td>Yougurt</td>\n",
              "      <td>Ghee</td>\n",
              "      <td>Cheese</td>\n",
              "      <td>NaN</td>\n",
              "      <td>NaN</td>\n",
              "      <td>NaN</td>\n",
              "      <td>NaN</td>\n",
              "    </tr>\n",
              "    <tr>\n",
              "      <th>1</th>\n",
              "      <td>Ghee</td>\n",
              "      <td>Coffee Powder</td>\n",
              "      <td>NaN</td>\n",
              "      <td>NaN</td>\n",
              "      <td>NaN</td>\n",
              "      <td>NaN</td>\n",
              "      <td>NaN</td>\n",
              "      <td>NaN</td>\n",
              "      <td>NaN</td>\n",
              "      <td>NaN</td>\n",
              "    </tr>\n",
              "    <tr>\n",
              "      <th>2</th>\n",
              "      <td>Lassi</td>\n",
              "      <td>Tea Powder</td>\n",
              "      <td>Butter</td>\n",
              "      <td>Cheese</td>\n",
              "      <td>NaN</td>\n",
              "      <td>NaN</td>\n",
              "      <td>NaN</td>\n",
              "      <td>NaN</td>\n",
              "      <td>NaN</td>\n",
              "      <td>NaN</td>\n",
              "    </tr>\n",
              "    <tr>\n",
              "      <th>3</th>\n",
              "      <td>Cheese</td>\n",
              "      <td>Tea Powder</td>\n",
              "      <td>Panner</td>\n",
              "      <td>Coffee Powder</td>\n",
              "      <td>Butter</td>\n",
              "      <td>Bread</td>\n",
              "      <td>NaN</td>\n",
              "      <td>NaN</td>\n",
              "      <td>NaN</td>\n",
              "      <td>NaN</td>\n",
              "    </tr>\n",
              "    <tr>\n",
              "      <th>4</th>\n",
              "      <td>Cheese</td>\n",
              "      <td>Yougurt</td>\n",
              "      <td>Coffee Powder</td>\n",
              "      <td>Sugar</td>\n",
              "      <td>Butter</td>\n",
              "      <td>Sweet</td>\n",
              "      <td>NaN</td>\n",
              "      <td>NaN</td>\n",
              "      <td>NaN</td>\n",
              "      <td>NaN</td>\n",
              "    </tr>\n",
              "    <tr>\n",
              "      <th>5</th>\n",
              "      <td>Sugar</td>\n",
              "      <td>Tea Powder</td>\n",
              "      <td>Ghee</td>\n",
              "      <td>Sweet</td>\n",
              "      <td>Panner</td>\n",
              "      <td>Milk</td>\n",
              "      <td>NaN</td>\n",
              "      <td>NaN</td>\n",
              "      <td>NaN</td>\n",
              "      <td>NaN</td>\n",
              "    </tr>\n",
              "    <tr>\n",
              "      <th>6</th>\n",
              "      <td>Sweet</td>\n",
              "      <td>Coffee Powder</td>\n",
              "      <td>NaN</td>\n",
              "      <td>NaN</td>\n",
              "      <td>NaN</td>\n",
              "      <td>NaN</td>\n",
              "      <td>NaN</td>\n",
              "      <td>NaN</td>\n",
              "      <td>NaN</td>\n",
              "      <td>NaN</td>\n",
              "    </tr>\n",
              "    <tr>\n",
              "      <th>7</th>\n",
              "      <td>Butter</td>\n",
              "      <td>Ghee</td>\n",
              "      <td>Panner</td>\n",
              "      <td>NaN</td>\n",
              "      <td>NaN</td>\n",
              "      <td>NaN</td>\n",
              "      <td>NaN</td>\n",
              "      <td>NaN</td>\n",
              "      <td>NaN</td>\n",
              "      <td>NaN</td>\n",
              "    </tr>\n",
              "    <tr>\n",
              "      <th>8</th>\n",
              "      <td>Sweet</td>\n",
              "      <td>Tea Powder</td>\n",
              "      <td>Butter</td>\n",
              "      <td>Yougurt</td>\n",
              "      <td>Sugar</td>\n",
              "      <td>Cheese</td>\n",
              "      <td>NaN</td>\n",
              "      <td>NaN</td>\n",
              "      <td>NaN</td>\n",
              "      <td>NaN</td>\n",
              "    </tr>\n",
              "    <tr>\n",
              "      <th>9</th>\n",
              "      <td>Panner</td>\n",
              "      <td>Ghee</td>\n",
              "      <td>NaN</td>\n",
              "      <td>NaN</td>\n",
              "      <td>NaN</td>\n",
              "      <td>NaN</td>\n",
              "      <td>NaN</td>\n",
              "      <td>NaN</td>\n",
              "      <td>NaN</td>\n",
              "      <td>NaN</td>\n",
              "    </tr>\n",
              "  </tbody>\n",
              "</table>\n",
              "</div>"
            ],
            "text/plain": [
              "        A              B              C              D  ...    G    H    I    J\n",
              "0   Lassi  Coffee Powder         Butter        Yougurt  ...  NaN  NaN  NaN  NaN\n",
              "1    Ghee  Coffee Powder            NaN            NaN  ...  NaN  NaN  NaN  NaN\n",
              "2   Lassi     Tea Powder         Butter         Cheese  ...  NaN  NaN  NaN  NaN\n",
              "3  Cheese     Tea Powder         Panner  Coffee Powder  ...  NaN  NaN  NaN  NaN\n",
              "4  Cheese        Yougurt  Coffee Powder          Sugar  ...  NaN  NaN  NaN  NaN\n",
              "5   Sugar     Tea Powder           Ghee          Sweet  ...  NaN  NaN  NaN  NaN\n",
              "6   Sweet  Coffee Powder            NaN            NaN  ...  NaN  NaN  NaN  NaN\n",
              "7  Butter           Ghee         Panner            NaN  ...  NaN  NaN  NaN  NaN\n",
              "8   Sweet     Tea Powder         Butter        Yougurt  ...  NaN  NaN  NaN  NaN\n",
              "9  Panner           Ghee            NaN            NaN  ...  NaN  NaN  NaN  NaN\n",
              "\n",
              "[10 rows x 10 columns]"
            ]
          },
          "metadata": {
            "tags": []
          },
          "execution_count": 80
        }
      ]
    },
    {
      "cell_type": "markdown",
      "metadata": {
        "id": "coTiKGdUvFZN"
      },
      "source": [
        "## Preprocessing Dataset 2 to Feed into the Algorithms"
      ]
    },
    {
      "cell_type": "code",
      "metadata": {
        "id": "Ed0-xPIWqoFU"
      },
      "source": [
        "all_transactions = []\n",
        "\n",
        "for transaction in range(len(retail_items)):\n",
        "  items = list(retail_items.iloc[transaction])\n",
        "  cleaned_items = [x for x in items if x == x]\n",
        "  all_transactions.append(cleaned_items)"
      ],
      "execution_count": 81,
      "outputs": []
    },
    {
      "cell_type": "code",
      "metadata": {
        "colab": {
          "base_uri": "https://localhost:8080/"
        },
        "id": "LGjswM3vux5_",
        "outputId": "0b9082cf-499f-4ec2-fde0-f905cf97dd35"
      },
      "source": [
        "print(len(all_transactions))\n",
        "all_transactions[:10]"
      ],
      "execution_count": 82,
      "outputs": [
        {
          "output_type": "stream",
          "text": [
            "12526\n"
          ],
          "name": "stdout"
        },
        {
          "output_type": "execute_result",
          "data": {
            "text/plain": [
              "[['Lassi', 'Coffee Powder', 'Butter', 'Yougurt', 'Ghee', 'Cheese'],\n",
              " ['Ghee', 'Coffee Powder'],\n",
              " ['Lassi', 'Tea Powder', 'Butter', 'Cheese'],\n",
              " ['Cheese', 'Tea Powder', 'Panner', 'Coffee Powder', 'Butter', 'Bread'],\n",
              " ['Cheese', 'Yougurt', 'Coffee Powder', 'Sugar', 'Butter', 'Sweet'],\n",
              " ['Sugar', 'Tea Powder', 'Ghee', 'Sweet', 'Panner', 'Milk'],\n",
              " ['Sweet', 'Coffee Powder'],\n",
              " ['Butter', 'Ghee', 'Panner'],\n",
              " ['Sweet', 'Tea Powder', 'Butter', 'Yougurt', 'Sugar', 'Cheese'],\n",
              " ['Panner', 'Ghee']]"
            ]
          },
          "metadata": {
            "tags": []
          },
          "execution_count": 82
        }
      ]
    },
    {
      "cell_type": "markdown",
      "metadata": {
        "id": "VCG7ohBnfYzd"
      },
      "source": [
        "## Applying Apriori Algorithm to Dataset 2"
      ]
    },
    {
      "cell_type": "code",
      "metadata": {
        "colab": {
          "base_uri": "https://localhost:8080/"
        },
        "id": "8Sgz8AFdfcUp",
        "outputId": "671f01c0-6ca9-428b-a451-f33517f73f1c"
      },
      "source": [
        "from apriori import apriori\n",
        "\n",
        "start_time = time.time()\n",
        "freqItemSet, rules = apriori(all_transactions, minSup=0.2, minConf=0.4)\n",
        "apriori_total_execution = time.time() - start_time\n",
        "print(\"Apriori execution took: {} seconds\".format(apriori_total_execution))"
      ],
      "execution_count": 111,
      "outputs": [
        {
          "output_type": "stream",
          "text": [
            "Apriori execution took: 0.6894240379333496 seconds\n"
          ],
          "name": "stdout"
        }
      ]
    },
    {
      "cell_type": "code",
      "metadata": {
        "colab": {
          "base_uri": "https://localhost:8080/"
        },
        "id": "xyUnflNGfyOE",
        "outputId": "fbe0344a-3f7d-4c7e-ea16-e5caebf9d03c"
      },
      "source": [
        "for item in freqItemSet.items():\n",
        "  print(f\"Itemsets of length {item[0]}:\\n{item[1]}\")"
      ],
      "execution_count": 112,
      "outputs": [
        {
          "output_type": "stream",
          "text": [
            "Itemsets of length 1:\n",
            "{frozenset({'Lassi'}), frozenset({'Milk'}), frozenset({'Panner'}), frozenset({'Sweet'}), frozenset({'Tea Powder'}), frozenset({'Bread'}), frozenset({'Ghee'}), frozenset({'Yougurt'}), frozenset({'Sugar'}), frozenset({'Coffee Powder'}), frozenset({'Butter'}), frozenset({'Cheese'})}\n",
            "Itemsets of length 2:\n",
            "{frozenset({'Sweet', 'Lassi'}), frozenset({'Cheese', 'Yougurt'}), frozenset({'Butter', 'Yougurt'}), frozenset({'Ghee', 'Butter'}), frozenset({'Cheese', 'Coffee Powder'}), frozenset({'Milk', 'Sugar'}), frozenset({'Ghee', 'Milk'}), frozenset({'Yougurt', 'Milk'}), frozenset({'Sweet', 'Bread'}), frozenset({'Butter', 'Sugar'}), frozenset({'Ghee', 'Sugar'}), frozenset({'Coffee Powder', 'Bread'}), frozenset({'Yougurt', 'Sugar'}), frozenset({'Sweet', 'Milk'}), frozenset({'Yougurt', 'Bread'}), frozenset({'Panner', 'Bread'}), frozenset({'Ghee', 'Lassi'}), frozenset({'Ghee', 'Panner'}), frozenset({'Yougurt', 'Coffee Powder'}), frozenset({'Ghee', 'Coffee Powder'}), frozenset({'Sweet', 'Butter'}), frozenset({'Milk', 'Bread'}), frozenset({'Milk', 'Coffee Powder'}), frozenset({'Cheese', 'Bread'}), frozenset({'Coffee Powder', 'Lassi'}), frozenset({'Milk', 'Lassi'})}\n"
          ],
          "name": "stdout"
        }
      ]
    },
    {
      "cell_type": "code",
      "metadata": {
        "colab": {
          "base_uri": "https://localhost:8080/"
        },
        "id": "iaMRvE2Kfyna",
        "outputId": "d5f63a2b-4060-4736-c3db-a624c6643a59"
      },
      "source": [
        "for rule in rules:\n",
        "  print(rule)"
      ],
      "execution_count": 113,
      "outputs": [
        {
          "output_type": "stream",
          "text": [
            "[{'Milk'}, {'Ghee'}, 0.4541176470588235]\n",
            "[{'Milk'}, {'Yougurt'}, 0.4544796380090498]\n",
            "[{'Milk'}, {'Sweet'}, 0.4546606334841629]\n",
            "[{'Milk'}, {'Bread'}, 0.4553846153846154]\n",
            "[{'Ghee'}, {'Milk'}, 0.45543655835904884]\n",
            "[{'Ghee'}, {'Lassi'}, 0.45543655835904884]\n",
            "[{'Yougurt'}, {'Bread'}, 0.455470737913486]\n",
            "[{'Milk'}, {'Coffee Powder'}, 0.4555656108597285]\n",
            "[{'Coffee Powder'}, {'Lassi'}, 0.45579960065347613]\n",
            "[{'Yougurt'}, {'Milk'}, 0.4563794983642312]\n",
            "[{'Ghee'}, {'Sugar'}, 0.4565256852423307]\n",
            "[{'Coffee Powder'}, {'Cheese'}, 0.456888727536758]\n",
            "[{'Coffee Powder'}, {'Milk'}, 0.456888727536758]\n",
            "[{'Bread'}, {'Yougurt'}, 0.45696571845368344]\n",
            "[{'Ghee'}, {'Panner'}, 0.45707024868397167]\n",
            "[{'Sweet'}, {'Milk'}, 0.4581433521794638]\n",
            "[{'Sugar'}, {'Ghee'}, 0.4587741700109449]\n",
            "[{'Bread'}, {'Milk'}, 0.4587892049598833]\n",
            "[{'Coffee Powder'}, {'Bread'}, 0.4588854601561082]\n",
            "[{'Ghee'}, {'Butter'}, 0.45906698130332185]\n",
            "[{'Milk'}, {'Lassi'}, 0.45918552036199095]\n",
            "[{'Yougurt'}, {'Butter'}, 0.45946928389676484]\n",
            "[{'Yougurt'}, {'Sugar'}, 0.45946928389676484]\n",
            "[{'Cheese'}, {'Coffee Powder'}, 0.4596420745069394]\n",
            "[{'Yougurt'}, {'Cheese'}, 0.46001454016721194]\n",
            "[{'Bread'}, {'Coffee Powder'}, 0.46097738876732314]\n",
            "[{'Sugar'}, {'Yougurt'}, 0.46114556731120027]\n",
            "[{'Butter'}, {'Yougurt'}, 0.46122970260901297]\n",
            "[{'Bread'}, {'Cheese'}, 0.4613420860685631]\n",
            "[{'Butter'}, {'Ghee'}, 0.4614121510673235]\n",
            "[{'Lassi'}, {'Ghee'}, 0.46197753636531025]\n",
            "[{'Cheese'}, {'Bread'}, 0.4620160701241782]\n",
            "[{'Cheese'}, {'Yougurt'}, 0.46219868517165813]\n",
            "[{'Lassi'}, {'Coffee Powder'}, 0.4623457926716995]\n",
            "[{'Panner'}, {'Ghee'}, 0.46286764705882355]\n",
            "[{'Bread'}, {'Sweet'}, 0.462983223924143]\n",
            "[{'Sweet'}, {'Bread'}, 0.4630676636877622]\n",
            "[{'Coffee Powder'}, {'Yougurt'}, 0.4636050099836631]\n",
            "[{'Milk'}, {'Sugar'}, 0.463710407239819]\n",
            "[{'Sweet'}, {'Butter'}, 0.4637971913186212]\n",
            "[{'Butter'}, {'Sweet'}, 0.46396642948367084]\n",
            "[{'Yougurt'}, {'Coffee Powder'}, 0.4641948382406398]\n",
            "[{'Bread'}, {'Panner'}, 0.4644420131291028]\n",
            "[{'Lassi'}, {'Milk'}, 0.4671331246547597]\n",
            "[{'Sugar'}, {'Milk'}, 0.46734768332725285]\n",
            "[{'Ghee'}, {'Coffee Powder'}, 0.46777999636957707]\n",
            "[{'Coffee Powder'}, {'Ghee'}, 0.46777999636957707]\n",
            "[{'Panner'}, {'Bread'}, 0.4681985294117647]\n",
            "[{'Sugar'}, {'Butter'}, 0.4689894199197373]\n",
            "[{'Butter'}, {'Sugar'}, 0.4690749863163656]\n",
            "[{'Sweet'}, {'Lassi'}, 0.4698157942732081]\n",
            "[{'Lassi'}, {'Sweet'}, 0.47431412262935]\n"
          ],
          "name": "stdout"
        }
      ]
    },
    {
      "cell_type": "markdown",
      "metadata": {
        "id": "3e703Jenf2et"
      },
      "source": [
        "## Applying FP Growth Algorithm to Dataset 2"
      ]
    },
    {
      "cell_type": "code",
      "metadata": {
        "colab": {
          "base_uri": "https://localhost:8080/"
        },
        "id": "XCT-2Pl7f6v7",
        "outputId": "573e8ab3-64ca-4470-b792-3473ecc3d0d1"
      },
      "source": [
        "from fpgrowth import fpgrowth\n",
        "\n",
        "start_time = time.time()\n",
        "freqItemSet, rules = fpgrowth(all_transactions, minSupRatio=0.2, minConf=0.4)\n",
        "fp_growth_total_execution = time.time() - start_time\n",
        "print(\"FP Growth execution took: {} seconds\".format(fp_growth_total_execution))"
      ],
      "execution_count": 98,
      "outputs": [
        {
          "output_type": "stream",
          "text": [
            "FP Growth execution took: 1.3111588954925537 seconds\n"
          ],
          "name": "stdout"
        }
      ]
    },
    {
      "cell_type": "code",
      "metadata": {
        "colab": {
          "base_uri": "https://localhost:8080/"
        },
        "id": "ZRJ--Eg-f-HX",
        "outputId": "f75c18b1-b938-4257-b1b9-a8aa2835c85f"
      },
      "source": [
        "frequency_list = {}\n",
        "\n",
        "for item in freqItemSet:\n",
        "  if len(item) in frequency_list.keys():\n",
        "    frequency_list[len(item)].append(item)\n",
        "  else:\n",
        "    frequency_list[len(item)] = [item]\n",
        "\n",
        "for item in frequency_list.items():\n",
        "  print(f\"Itemsets of length {item[0]}:\\n{item[1]}\")"
      ],
      "execution_count": 99,
      "outputs": [
        {
          "output_type": "stream",
          "text": [
            "Itemsets of length 1:\n",
            "[{'Tea Powder'}, {'Lassi'}, {'Panner'}, {'Cheese'}, {'Butter'}, {'Sugar'}, {'Sweet'}, {'Bread'}, {'Yougurt'}, {'Coffee Powder'}, {'Ghee'}, {'Milk'}]\n",
            "Itemsets of length 2:\n",
            "[{'Ghee', 'Lassi'}, {'Coffee Powder', 'Lassi'}, {'Milk', 'Lassi'}, {'Sweet', 'Lassi'}, {'Ghee', 'Panner'}, {'Panner', 'Bread'}, {'Cheese', 'Coffee Powder'}, {'Cheese', 'Bread'}, {'Cheese', 'Yougurt'}, {'Yougurt', 'Butter'}, {'Ghee', 'Butter'}, {'Sweet', 'Butter'}, {'Butter', 'Sugar'}, {'Ghee', 'Sugar'}, {'Yougurt', 'Sugar'}, {'Milk', 'Sugar'}, {'Sweet', 'Milk'}, {'Sweet', 'Bread'}, {'Yougurt', 'Bread'}, {'Milk', 'Bread'}, {'Coffee Powder', 'Bread'}, {'Yougurt', 'Milk'}, {'Yougurt', 'Coffee Powder'}, {'Milk', 'Coffee Powder'}, {'Ghee', 'Milk'}]\n"
          ],
          "name": "stdout"
        }
      ]
    },
    {
      "cell_type": "code",
      "metadata": {
        "colab": {
          "base_uri": "https://localhost:8080/"
        },
        "id": "0F4ajhyTgDBm",
        "outputId": "ec0edb53-21ee-4b65-e028-7190bf17e135"
      },
      "source": [
        "for rule in rules:\n",
        "  print(rule)"
      ],
      "execution_count": 100,
      "outputs": [
        {
          "output_type": "stream",
          "text": [
            "[{'Ghee'}, {'Lassi'}, 0.45543655835904884]\n",
            "[{'Lassi'}, {'Ghee'}, 0.46197753636531025]\n",
            "[{'Coffee Powder'}, {'Lassi'}, 0.45579960065347613]\n",
            "[{'Lassi'}, {'Coffee Powder'}, 0.4623457926716995]\n",
            "[{'Milk'}, {'Lassi'}, 0.45918552036199095]\n",
            "[{'Lassi'}, {'Milk'}, 0.4671331246547597]\n",
            "[{'Sweet'}, {'Lassi'}, 0.4698157942732081]\n",
            "[{'Lassi'}, {'Sweet'}, 0.47431412262935]\n",
            "[{'Ghee'}, {'Panner'}, 0.45707024868397167]\n",
            "[{'Panner'}, {'Ghee'}, 0.46286764705882355]\n",
            "[{'Panner'}, {'Bread'}, 0.4681985294117647]\n",
            "[{'Bread'}, {'Panner'}, 0.4644420131291028]\n",
            "[{'Cheese'}, {'Coffee Powder'}, 0.4596420745069394]\n",
            "[{'Coffee Powder'}, {'Cheese'}, 0.456888727536758]\n",
            "[{'Cheese'}, {'Bread'}, 0.4620160701241782]\n",
            "[{'Bread'}, {'Cheese'}, 0.4613420860685631]\n",
            "[{'Cheese'}, {'Yougurt'}, 0.46219868517165813]\n",
            "[{'Yougurt'}, {'Cheese'}, 0.46001454016721194]\n",
            "[{'Yougurt'}, {'Butter'}, 0.45946928389676484]\n",
            "[{'Butter'}, {'Yougurt'}, 0.46122970260901297]\n",
            "[{'Ghee'}, {'Butter'}, 0.45906698130332185]\n",
            "[{'Butter'}, {'Ghee'}, 0.4614121510673235]\n",
            "[{'Sweet'}, {'Butter'}, 0.4637971913186212]\n",
            "[{'Butter'}, {'Sweet'}, 0.46396642948367084]\n",
            "[{'Butter'}, {'Sugar'}, 0.4690749863163656]\n",
            "[{'Sugar'}, {'Butter'}, 0.4689894199197373]\n",
            "[{'Ghee'}, {'Sugar'}, 0.4565256852423307]\n",
            "[{'Sugar'}, {'Ghee'}, 0.4587741700109449]\n",
            "[{'Yougurt'}, {'Sugar'}, 0.45946928389676484]\n",
            "[{'Sugar'}, {'Yougurt'}, 0.46114556731120027]\n",
            "[{'Milk'}, {'Sugar'}, 0.463710407239819]\n",
            "[{'Sugar'}, {'Milk'}, 0.46734768332725285]\n",
            "[{'Sweet'}, {'Milk'}, 0.4581433521794638]\n",
            "[{'Milk'}, {'Sweet'}, 0.4546606334841629]\n",
            "[{'Sweet'}, {'Bread'}, 0.4630676636877622]\n",
            "[{'Bread'}, {'Sweet'}, 0.462983223924143]\n",
            "[{'Yougurt'}, {'Bread'}, 0.455470737913486]\n",
            "[{'Bread'}, {'Yougurt'}, 0.45696571845368344]\n",
            "[{'Milk'}, {'Bread'}, 0.4553846153846154]\n",
            "[{'Bread'}, {'Milk'}, 0.4587892049598833]\n",
            "[{'Coffee Powder'}, {'Bread'}, 0.4588854601561082]\n",
            "[{'Bread'}, {'Coffee Powder'}, 0.46097738876732314]\n",
            "[{'Yougurt'}, {'Milk'}, 0.4563794983642312]\n",
            "[{'Milk'}, {'Yougurt'}, 0.4544796380090498]\n",
            "[{'Yougurt'}, {'Coffee Powder'}, 0.4641948382406398]\n",
            "[{'Coffee Powder'}, {'Yougurt'}, 0.4636050099836631]\n",
            "[{'Milk'}, {'Coffee Powder'}, 0.4555656108597285]\n",
            "[{'Coffee Powder'}, {'Milk'}, 0.456888727536758]\n",
            "[{'Ghee'}, {'Milk'}, 0.45543655835904884]\n",
            "[{'Milk'}, {'Ghee'}, 0.4541176470588235]\n"
          ],
          "name": "stdout"
        }
      ]
    },
    {
      "cell_type": "markdown",
      "metadata": {
        "id": "o9JYZKMMw4UW"
      },
      "source": [
        "## Comparative Analysis of Apriori and FP Growth in Dataset 2"
      ]
    },
    {
      "cell_type": "code",
      "metadata": {
        "colab": {
          "base_uri": "https://localhost:8080/",
          "height": 295
        },
        "id": "oP4AZIOvwwKm",
        "outputId": "68921bcf-04ae-4e61-f0df-74703a80f1b8"
      },
      "source": [
        "plt.bar([0, 1], [apriori_total_execution, fp_growth_total_execution], color=['green', 'orange'])\n",
        "plt.xticks([0, 1], (\"Apriori\", \"FP Growth\"))\n",
        "plt.xlabel('Algorithms')\n",
        "plt.ylabel('Time')\n",
        "plt.title(\"Execution Time (seconds) Comparison\")\n",
        "plt.show()"
      ],
      "execution_count": 101,
      "outputs": [
        {
          "output_type": "display_data",
          "data": {
            "image/png": "[encoded data removed]",
            "text/plain": [
              "<Figure size 432x288 with 1 Axes>"
            ]
          },
          "metadata": {
            "tags": [],
            "needs_background": "light"
          }
        }
      ]
    },
    {
      "cell_type": "markdown",
      "metadata": {
        "id": "yKYUFfJvNzcl"
      },
      "source": [
        "## Running Apriori and FP Growth with Multiple Min Support Thresholds on Dataset 2"
      ]
    },
    {
      "cell_type": "code",
      "metadata": {
        "id": "gqms5fKKN0Xw"
      },
      "source": [
        "configs = [0.05, 0.08, 0.1, 0.15, 0.18, 0.2]\n",
        "apriori_times = []\n",
        "fp_growth_times = []\n",
        "\n",
        "for config in configs:\n",
        "  start_time = time.time()\n",
        "  freqItemSet, rules = apriori(all_transactions, minSup=config, minConf=0.4)\n",
        "  end_time = time.time() - start_time\n",
        "  apriori_times.append(end_time)\n",
        "\n",
        "  start_time = time.time()\n",
        "  freqItemSet, rules = fpgrowth(all_transactions, minSupRatio=config, minConf=0.4)\n",
        "  end_time = time.time() - start_time\n",
        "  fp_growth_times.append(end_time)"
      ],
      "execution_count": 114,
      "outputs": []
    },
    {
      "cell_type": "code",
      "metadata": {
        "colab": {
          "base_uri": "https://localhost:8080/",
          "height": 404
        },
        "id": "RE_NPgvpN3ye",
        "outputId": "0aefd09d-e406-4610-e69c-f9dcd91378a9"
      },
      "source": [
        "plt.figure(figsize=(10,6))\n",
        "plt.plot(configs, apriori_times, 'b*-')\n",
        "plt.plot(configs, fp_growth_times, 'g+-')\n",
        "plt.title('Runtime Comparison with Different Min Support on Dataset 2')\n",
        "plt.xlabel('Min Support')\n",
        "plt.ylabel('Time taken (seconds)')\n",
        "plt.legend([\"Apriori\", \"FP Growth\"], loc =\"upper right\")\n",
        "plt.show()"
      ],
      "execution_count": 116,
      "outputs": [
        {
          "output_type": "display_data",
          "data": {
            "image/png": "[encoded data removed]",
            "text/plain": [
              "<Figure size 720x432 with 1 Axes>"
            ]
          },
          "metadata": {
            "tags": [],
            "needs_background": "light"
          }
        }
      ]
    }
  ]
}